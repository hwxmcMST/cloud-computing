{
 "cells": [
  {
   "cell_type": "code",
   "execution_count": 1,
   "metadata": {},
   "outputs": [],
   "source": [
    "from pyspark import *\n",
    "from pyspark.sql import *"
   ]
  },
  {
   "cell_type": "code",
   "execution_count": 2,
   "metadata": {},
   "outputs": [],
   "source": [
    "spark = SparkSession.builder.appName('h516eveRetriever').getOrCreate()\n",
    "sqlContext = SQLContext(spark)"
   ]
  },
  {
   "cell_type": "code",
   "execution_count": 3,
   "metadata": {},
   "outputs": [],
   "source": [
    "from pyspark.sql.types import *"
   ]
  },
  {
   "cell_type": "code",
   "execution_count": 4,
   "metadata": {},
   "outputs": [],
   "source": [
    "headers = StructType([\\\n",
    "            StructField('victimCharacterId',IntegerType(), True),\\\n",
    "            StructField('victimShipId',IntegerType(), True),\\\n",
    "            StructField('victimShipName',StringType(), True),\\\n",
    "            StructField('victimShipCategoryId',IntegerType(), True),\\\n",
    "            StructField('victimShipCategoryName',StringType(), True),\\\n",
    "            StructField('attackerCharacterId',IntegerType(), True),\\\n",
    "            StructField('attackerShipId',IntegerType(), True),\\\n",
    "            StructField('attackerShipName',StringType(), True),\\\n",
    "            StructField('attackerShipCategoryId',IntegerType(), True),\\\n",
    "            StructField('attackerShipCategoryName',StringType(), True),\\\n",
    "            StructField('killId',IntegerType(), True),\\\n",
    "            StructField('date',DateType(), True)])\n",
    "df = spark.read.csv('/home/rlemke/eveRetrieveResults.csv',header=False,schema=headers)\n",
    "df.createOrReplaceTempView('rawEveData')"
   ]
  },
  {
   "cell_type": "code",
   "execution_count": 5,
   "metadata": {},
   "outputs": [],
   "source": [
    "selectStatement =  \"SELECT 0 AS victory, victimCharacterId AS pilotOne, victimShipId AS pilotOneShip, attackerCharacterId AS pilotTwo, attackerShipId AS pilotTwoShip FROM rawEveData WHERE attackerCharacterId > victimCharacterId\"\n",
    "selectStatement += \" UNION \"\n",
    "selectStatement += \"SELECT 1 AS victory, attackerCharacterId AS pilotOne, attackerShipId AS pilotOneShip, victimCharacterId AS pilotTwo, victimShipId AS pilotTwoShip FROM rawEveData WHERE victimCharacterId > attackerCharacterId\"\n",
    "preparedDf = spark.sql(selectStatement)\n",
    "preparedDf.createOrReplaceTempView('preparedEveData')"
   ]
  },
  {
   "cell_type": "code",
   "execution_count": 6,
   "metadata": {},
   "outputs": [],
   "source": [
    "from pyspark.ml.feature import RFormula"
   ]
  },
  {
   "cell_type": "code",
   "execution_count": 8,
   "metadata": {},
   "outputs": [],
   "source": [
    "formula = RFormula(formula=\"victory ~ pilotOneShip:pilotTwoShip\")"
   ]
  },
  {
   "cell_type": "code",
   "execution_count": 9,
   "metadata": {},
   "outputs": [],
   "source": [
    "fittedDf = formula.fit(preparedDf)\n",
    "transformedDf = fittedDf.transform(preparedDf)"
   ]
  },
  {
   "cell_type": "code",
   "execution_count": 10,
   "metadata": {},
   "outputs": [],
   "source": [
    "from pyspark.ml.classification import LogisticRegression"
   ]
  },
  {
   "cell_type": "code",
   "execution_count": 11,
   "metadata": {},
   "outputs": [],
   "source": [
    "regression = LogisticRegression(maxIter=10, regParam=0.3, elasticNetParam=0.8)\n",
    "\n",
    "train, test = transformedDf.randomSplit([0.7, 0.3])\n",
    "lrModel = regression.fit(train)"
   ]
  },
  {
   "cell_type": "code",
   "execution_count": 12,
   "metadata": {},
   "outputs": [],
   "source": [
    "predictions = lrModel.transform(test)"
   ]
  },
  {
   "cell_type": "code",
   "execution_count": 13,
   "metadata": {},
   "outputs": [],
   "source": [
    "predictions.createOrReplaceTempView('evePredictions')"
   ]
  },
  {
   "cell_type": "code",
   "execution_count": 14,
   "metadata": {},
   "outputs": [],
   "source": [
    "wrongGuesses = spark.sql(\"SELECT -1 FROM evePredictions WHERE CAST(prediction AS INTEGER) != victory\").count()"
   ]
  },
  {
   "cell_type": "code",
   "execution_count": 15,
   "metadata": {},
   "outputs": [],
   "source": [
    "totalRows = spark.sql(\"SELECT -1 FROM evePredictions\").count()"
   ]
  },
  {
   "cell_type": "code",
   "execution_count": 16,
   "metadata": {},
   "outputs": [
    {
     "name": "stdout",
     "output_type": "stream",
     "text": [
      "percent correct: 0.6581725918018163\n"
     ]
    }
   ],
   "source": [
    "print(\"percent correct: \" + str((totalRows - wrongGuesses)/totalRows))"
   ]
  },
  {
   "cell_type": "code",
   "execution_count": 17,
   "metadata": {},
   "outputs": [
    {
     "name": "stdout",
     "output_type": "stream",
     "text": [
      "273524\n",
      "93498\n"
     ]
    }
   ],
   "source": [
    "print(totalRows)\n",
    "print(wrongGuesses)"
   ]
  },
  {
   "cell_type": "code",
   "execution_count": null,
   "metadata": {},
   "outputs": [],
   "source": []
  }
 ],
 "metadata": {
  "kernelspec": {
   "display_name": "Python 3",
   "language": "python",
   "name": "python3"
  },
  "language_info": {
   "codemirror_mode": {
    "name": "ipython",
    "version": 3
   },
   "file_extension": ".py",
   "mimetype": "text/x-python",
   "name": "python",
   "nbconvert_exporter": "python",
   "pygments_lexer": "ipython3",
   "version": "3.7.2"
  }
 },
 "nbformat": 4,
 "nbformat_minor": 4
}
