{
 "cells": [
  {
   "cell_type": "code",
   "execution_count": 1,
   "metadata": {},
   "outputs": [],
   "source": [
    "import numpy as np"
   ]
  },
  {
   "cell_type": "markdown",
   "metadata": {},
   "source": [
    "Bonus 1"
   ]
  },
  {
   "cell_type": "code",
   "execution_count": 2,
   "metadata": {},
   "outputs": [],
   "source": [
    "A=np.random.randint(0,100,1000)"
   ]
  },
  {
   "cell_type": "code",
   "execution_count": 3,
   "metadata": {},
   "outputs": [],
   "source": [
    "def myFunc(x):\n",
    "    if x>50:\n",
    "        return True\n",
    "    else:\n",
    "        return False"
   ]
  },
  {
   "cell_type": "code",
   "execution_count": null,
   "metadata": {},
   "outputs": [],
   "source": [
    "Anew = filter(myFunc, A)"
   ]
  },
  {
   "cell_type": "code",
   "execution_count": null,
   "metadata": {},
   "outputs": [],
   "source": [
    "for x in Anew:\n",
    "    print(x)"
   ]
  },
  {
   "cell_type": "markdown",
   "metadata": {},
   "source": [
    "Bonus 2"
   ]
  },
  {
   "cell_type": "code",
   "execution_count": null,
   "metadata": {},
   "outputs": [],
   "source": [
    "def is_Prime(n):\n",
    "    if n==2:\n",
    "        return True\n",
    "    else:\n",
    "        for i in range(2,n+1):\n",
    "            if n%i==0:\n",
    "                return False\n",
    "            else:\n",
    "                return True"
   ]
  },
  {
   "cell_type": "code",
   "execution_count": null,
   "metadata": {},
   "outputs": [],
   "source": [
    "A_prime=filter(is_Prime,A)\n",
    "for x in A_prime:\n",
    "    print(x)"
   ]
  },
  {
   "cell_type": "markdown",
   "metadata": {},
   "source": [
    "Bonus 3"
   ]
  },
  {
   "cell_type": "code",
   "execution_count": 4,
   "metadata": {},
   "outputs": [],
   "source": [
    "t1=open('textfile.txt','r').readlines()"
   ]
  },
  {
   "cell_type": "code",
   "execution_count": 5,
   "metadata": {},
   "outputs": [],
   "source": [
    "import json"
   ]
  },
  {
   "cell_type": "code",
   "execution_count": 11,
   "metadata": {},
   "outputs": [
    {
     "data": {
      "text/plain": [
       "str"
      ]
     },
     "execution_count": 11,
     "metadata": {},
     "output_type": "execute_result"
    }
   ],
   "source": [
    "newtxt1=json.dumps(t1)\n",
    "type(newtxt1)"
   ]
  },
  {
   "cell_type": "code",
   "execution_count": 12,
   "metadata": {},
   "outputs": [],
   "source": [
    "def string_k(k,str):\n",
    "    string=[]\n",
    "    text = str.split(\" \") \n",
    "    for x in text:     \n",
    "        # if length of current sub string \n",
    "        # is greater than k then \n",
    "        if len(x) > k: \n",
    "              \n",
    "            # append this sub string in \n",
    "            # string list \n",
    "            string.append(x) \n",
    "              \n",
    "     # return string list \n",
    "    return string "
   ]
  },
  {
   "cell_type": "code",
   "execution_count": 13,
   "metadata": {},
   "outputs": [
    {
     "data": {
      "text/plain": [
       "['erased',\n",
       " 'knowledge',\n",
       " 'nuclear',\n",
       " 'eliminated',\n",
       " 'missile',\n",
       " 'arsenal',\n",
       " 'stopped',\n",
       " 'dangerous',\n",
       " 'proxies',\n",
       " 'across',\n",
       " 'region',\n",
       " 'transformed',\n",
       " 'disruptive',\n",
       " 'regional',\n",
       " 'power\"]']"
      ]
     },
     "execution_count": 13,
     "metadata": {},
     "output_type": "execute_result"
    }
   ],
   "source": [
    "string_k(5,newtxt1)"
   ]
  },
  {
   "cell_type": "code",
   "execution_count": 14,
   "metadata": {},
   "outputs": [
    {
     "name": "stdout",
     "output_type": "stream",
     "text": [
      "stopped\n"
     ]
    }
   ],
   "source": [
    "for i in newtxt1.split():\n",
    "    if i.startswith(\"s\"):\n",
    "        print(i)"
   ]
  },
  {
   "cell_type": "code",
   "execution_count": 16,
   "metadata": {},
   "outputs": [],
   "source": [
    "t2 = open('textfile1.txt','r').readlines()"
   ]
  },
  {
   "cell_type": "code",
   "execution_count": 17,
   "metadata": {},
   "outputs": [
    {
     "data": {
      "text/plain": [
       "str"
      ]
     },
     "execution_count": 17,
     "metadata": {},
     "output_type": "execute_result"
    }
   ],
   "source": [
    "newtxt2=json.dumps(t2)\n",
    "type(newtxt2)"
   ]
  },
  {
   "cell_type": "code",
   "execution_count": 18,
   "metadata": {},
   "outputs": [
    {
     "data": {
      "text/plain": [
       "['frame,',\n",
       " 'pulled',\n",
       " 'wreckage,',\n",
       " 'jagged',\n",
       " 'pieces',\n",
       " 'remained',\n",
       " 'school.',\n",
       " '7-year-old',\n",
       " 'hours,',\n",
       " 'quietly',\n",
       " 'trying',\n",
       " 'maintain',\n",
       " 'strength',\n",
       " '9-year-old',\n",
       " 'daughter,',\n",
       " 'escaped',\n",
       " 'school',\n",
       " 'unharmed.',\n",
       " 'wondered',\n",
       " 'younger',\n",
       " 'brother,',\n",
       " 'Gustavo,',\n",
       " 'children',\n",
       " 'perished',\n",
       " 'Enrique',\n",
       " 'Rebsamen',\n",
       " 'school',\n",
       " 'collapsed',\n",
       " 'earthquake',\n",
       " 'devastated',\n",
       " 'Mexico',\n",
       " 'Tuesday,',\n",
       " 'killing',\n",
       " 'people.',\n",
       " 'L\\\\u00f3pez',\n",
       " 'waited',\n",
       " 'cousin,',\n",
       " 'Mauricio,',\n",
       " 'movies.',\n",
       " 'Mauricio',\n",
       " 'arrived',\n",
       " 'later,',\n",
       " 'hundreds',\n",
       " 'medical',\n",
       " 'personnel,',\n",
       " 'rescuers,',\n",
       " 'volunteers',\n",
       " 'families',\n",
       " 'racing',\n",
       " 'around,',\n",
       " 'trying',\n",
       " 'unearth',\n",
       " 'students',\n",
       " 'buried',\n",
       " 'rubble.']"
      ]
     },
     "execution_count": 18,
     "metadata": {},
     "output_type": "execute_result"
    }
   ],
   "source": [
    "string_k(5,newtxt2)"
   ]
  },
  {
   "cell_type": "code",
   "execution_count": 19,
   "metadata": {},
   "outputs": [
    {
     "name": "stdout",
     "output_type": "stream",
     "text": [
      "school.\n",
      "son.\n",
      "sat\n",
      "shock\n",
      "strength\n",
      "school\n",
      "school\n",
      "students\n",
      "still\n"
     ]
    }
   ],
   "source": [
    "for i in newtxt2.split():\n",
    "    if i.startswith(\"s\"):\n",
    "        print(i)"
   ]
  },
  {
   "cell_type": "markdown",
   "metadata": {},
   "source": [
    "Bonus 4"
   ]
  },
  {
   "cell_type": "code",
   "execution_count": null,
   "metadata": {},
   "outputs": [],
   "source": [
    "path = 'file:///data2/elisalom/sparkex/data/pagerank.txt'\n",
    "textR = sc.textFile(path)"
   ]
  },
  {
   "cell_type": "code",
   "execution_count": null,
   "metadata": {},
   "outputs": [],
   "source": [
    "textR.collect()\n",
    "mapR=rdd1.map(lambda x:(x,1))\n",
    "Adict=mapR.countByKey()\n",
    "print(Adict['5'])       #Python dictionary: Show only the nodes who has exactly 5 incoming edges\n",
    "mapR.sortByKey().collect()  #Python list: Output sorted (based on the node id) list of incoming edges"
   ]
  },
  {
   "cell_type": "code",
   "execution_count": null,
   "metadata": {},
   "outputs": [],
   "source": []
  }
 ],
 "metadata": {
  "kernelspec": {
   "display_name": "Python 3",
   "language": "python",
   "name": "python3"
  },
  "language_info": {
   "codemirror_mode": {
    "name": "ipython",
    "version": 3
   },
   "file_extension": ".py",
   "mimetype": "text/x-python",
   "name": "python",
   "nbconvert_exporter": "python",
   "pygments_lexer": "ipython3",
   "version": "3.7.0"
  }
 },
 "nbformat": 4,
 "nbformat_minor": 2
}
